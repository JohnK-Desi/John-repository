{
  "nbformat": 4,
  "nbformat_minor": 0,
  "metadata": {
    "colab": {
      "provenance": [],
      "include_colab_link": true
    },
    "kernelspec": {
      "name": "python3",
      "display_name": "Python 3"
    },
    "language_info": {
      "name": "python"
    }
  },
  "cells": [
    {
      "cell_type": "markdown",
      "metadata": {
        "id": "view-in-github",
        "colab_type": "text"
      },
      "source": [
        "<a href=\"https://colab.research.google.com/github/JohnK-Desi/John-repository/blob/master/Untitled1.ipynb\" target=\"_parent\"><img src=\"https://colab.research.google.com/assets/colab-badge.svg\" alt=\"Open In Colab\"/></a>"
      ]
    },
    {
      "cell_type": "code",
      "execution_count": null,
      "metadata": {
        "colab": {
          "base_uri": "https://localhost:8080/"
        },
        "id": "JR7B2jRp-GCW",
        "outputId": "27b86f5a-3c86-456c-94ef-c90f6526864c"
      },
      "outputs": [
        {
          "output_type": "stream",
          "name": "stdout",
          "text": [
            "randon number 정답 : [6, 2, 4, 0, 9]\n",
            "0부터 9까지 숫자를 겹치지 않게 입력61487\n",
            "입력한 숫자 : [6, 1, 4, 8, 7]\n",
            "strike\n",
            "ball\n",
            "strike\n",
            "ball\n",
            "ball\n"
          ]
        }
      ],
      "source": [
        "import random\n",
        "result = random.sample(range(10), 5)\n",
        "print(f\"randon number 정답 : {result}\")\n",
        "while True:\n",
        "    user_num = list(map(int, input(\"0부터 9까지 숫자를 겹치지 않게 입력\")))\n",
        "    if len(user_num) != 5:\n",
        "        print(\"각기 다른 숫자 5개를 입력하세요.\")\n",
        "        continue\n",
        "    print(f\"입력한 숫자 : {user_num}\")\n",
        "    for i in range(5):\n",
        "        if result[i] == user_num[i]:\n",
        "            print(\"strike\")\n",
        "        if result[i] != user_num[i]:\n",
        "            print(\"ball\")\n",
        "\n"
      ]
    },
    {
      "cell_type": "markdown",
      "source": [],
      "metadata": {
        "id": "VJ8Oh5WBCODv"
      }
    }
  ]
}